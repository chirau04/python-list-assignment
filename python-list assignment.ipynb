{
 "cells": [
  {
   "cell_type": "code",
   "execution_count": 1,
   "id": "920b1b5e-6eba-48d0-ad0f-8af8ed2b4f3c",
   "metadata": {},
   "outputs": [],
   "source": [
    "my_list = []"
   ]
  },
  {
   "cell_type": "code",
   "execution_count": 2,
   "id": "7c71e1af-3a9e-4d1a-a45a-ac18a1e113d3",
   "metadata": {},
   "outputs": [
    {
     "name": "stdout",
     "output_type": "stream",
     "text": [
      "[1, 2, 3, 4]\n"
     ]
    }
   ],
   "source": [
    "my_list = [1, 2, 3]  # Creating a list\n",
    "my_list.append(4)    # Adding an element (4) to the end of the list\n",
    "print(my_list)       # Printing the updated list"
   ]
  },
  {
   "cell_type": "code",
   "execution_count": 3,
   "id": "d866983c-afe0-4d82-8a67-d34551017c89",
   "metadata": {},
   "outputs": [
    {
     "name": "stdout",
     "output_type": "stream",
     "text": [
      "4\n"
     ]
    }
   ],
   "source": [
    "my_list = [1, 2, 3, 4]  # The list we created earlier\n",
    "print(my_list[-1])      # Printing the last element of the list"
   ]
  },
  {
   "cell_type": "code",
   "execution_count": 4,
   "id": "59b7755d-6aee-425d-b877-048f7488237e",
   "metadata": {},
   "outputs": [
    {
     "name": "stdout",
     "output_type": "stream",
     "text": [
      "[4, 3, 2, 1]\n"
     ]
    }
   ],
   "source": [
    "my_list = [1, 2, 3, 4]  # The list we created earlier\n",
    "my_list.reverse()       # Reversing the list\n",
    "print(my_list)          # Printing the reversed list"
   ]
  },
  {
   "cell_type": "code",
   "execution_count": 5,
   "id": "858035d0-6595-4055-948c-a1b8c62c9548",
   "metadata": {},
   "outputs": [
    {
     "name": "stdout",
     "output_type": "stream",
     "text": [
      "[1, 2, 3, 4]\n"
     ]
    }
   ],
   "source": [
    "my_list = [4, 3, 2, 1]  # The reversed list\n",
    "my_list.sort()          # Sorting the list in ascending order\n",
    "print(my_list)          # Printing the sorted list"
   ]
  },
  {
   "cell_type": "code",
   "execution_count": 6,
   "id": "56dd206b-8324-45c5-87e5-6fa4dfcb1587",
   "metadata": {},
   "outputs": [
    {
     "name": "stdout",
     "output_type": "stream",
     "text": [
      "The Dark Knight\n"
     ]
    }
   ],
   "source": [
    "favorite_movies = [\"Inception\", \"The Dark Knight\", \"Pulp Fiction\"]  # Creating a list of favorite movies\n",
    "print(favorite_movies[1])  # Printing the title of the second movie (index 1)"
   ]
  },
  {
   "cell_type": "code",
   "execution_count": null,
   "id": "5ee3e9ac-ece5-484a-bbf7-aa3368492711",
   "metadata": {},
   "outputs": [],
   "source": []
  }
 ],
 "metadata": {
  "kernelspec": {
   "display_name": "Python 3 (ipykernel)",
   "language": "python",
   "name": "python3"
  },
  "language_info": {
   "codemirror_mode": {
    "name": "ipython",
    "version": 3
   },
   "file_extension": ".py",
   "mimetype": "text/x-python",
   "name": "python",
   "nbconvert_exporter": "python",
   "pygments_lexer": "ipython3",
   "version": "3.10.8"
  }
 },
 "nbformat": 4,
 "nbformat_minor": 5
}
